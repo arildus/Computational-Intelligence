{
 "cells": [
  {
   "cell_type": "markdown",
   "metadata": {},
   "source": [
    "Copyright **`(c)`** 2023 Giovanni Squillero `<giovanni.squillero@polito.it>`  \n",
    "[`https://github.com/squillero/computational-intelligence`](https://github.com/squillero/computational-intelligence)  \n",
    "Free for personal or classroom use; see [`LICENSE.md`](https://github.com/squillero/computational-intelligence/blob/master/LICENSE.md) for details.  "
   ]
  },
  {
   "cell_type": "markdown",
   "metadata": {},
   "source": [
    "# LAB9\n",
    "\n",
    "Write a local-search algorithm (eg. an EA) able to solve the *Problem* instances 1, 2, 5, and 10 on a 1000-loci genomes, using a minimum number of fitness calls. That's all.\n",
    "\n",
    "### Deadlines:\n",
    "\n",
    "* Submission: Sunday, December 3 ([CET](https://www.timeanddate.com/time/zones/cet))\n",
    "* Reviews: Sunday, December 10 ([CET](https://www.timeanddate.com/time/zones/cet))\n",
    "\n",
    "Notes:\n",
    "\n",
    "* Reviews will be assigned  on Monday, December 4\n",
    "* You need to commit in order to be selected as a reviewer (ie. better to commit an empty work than not to commit)"
   ]
  },
  {
   "cell_type": "code",
   "execution_count": 23,
   "metadata": {},
   "outputs": [],
   "source": [
    "from random import choices, sample, randint, random\n",
    "import numpy as np\n",
    "import lab9_lib\n",
    "from copy import copy"
   ]
  },
  {
   "cell_type": "code",
   "execution_count": 24,
   "metadata": {},
   "outputs": [
    {
     "name": "stdout",
     "output_type": "stream",
     "text": [
      "10101000110110000101001001011011100101111000110000: 7.33%\n",
      "01101011111011000111010010001100111011011110101101: 9.11%\n",
      "10101011101110001111001011011111000011011011011000: 31.34%\n",
      "11001000000000011001100001001111011001010000001101: 7.36%\n",
      "01100000111011111001001110010001110110111001001010: 15.33%\n",
      "00011000000000001111011101000001000010110001011011: 23.56%\n",
      "10110011010001111101011001110000011000011101101001: 23.34%\n",
      "01111001000011101001101100101100000111111100001010: 7.33%\n",
      "10001111101100100000101010110100100111101011011110: 23.33%\n",
      "01011001111001010111110101100111000100101000010101: 23.33%\n",
      "10\n"
     ]
    }
   ],
   "source": [
    "fitness = lab9_lib.make_problem(10)\n",
    "for n in range(10):\n",
    "    individuals = np.array(choices([0, 1], k=50))\n",
    "    print(f\"{''.join(str(gene) for gene in individuals)}: {fitness(individuals):.2%}\")\n",
    "\n",
    "print(fitness.calls)"
   ]
  },
  {
   "cell_type": "code",
   "execution_count": 25,
   "metadata": {},
   "outputs": [],
   "source": [
    "# I'm going to use genetic-algorithms\n",
    "# I will therefore need crossover, mutation and selection"
   ]
  },
  {
   "cell_type": "code",
   "execution_count": 26,
   "metadata": {},
   "outputs": [],
   "source": [
    "def selection(fitness_scores: np.ndarray, pop_size, tour_size):\n",
    "    # choose k random individuals from the population and get their indexes\n",
    "    candidate_idx = sample(range(0, pop_size), k=tour_size)\n",
    "    # get the fitness scores of the respective candidates\n",
    "    candidate_scores = [fitness_scores[idx] for idx in candidate_idx]\n",
    "    # get the index (in population array) of the individual with the highest fitness\n",
    "    best_candidate_idx = candidate_idx[np.argmax(candidate_scores)]\n",
    "\n",
    "    return best_candidate_idx"
   ]
  },
  {
   "cell_type": "code",
   "execution_count": 77,
   "metadata": {},
   "outputs": [
    {
     "name": "stdout",
     "output_type": "stream",
     "text": [
      "child 1:  [0 1 0 1 0 1 0 1 0 1 0 1 0 1 0 1]\n",
      "child 2:  [1 0 1 0 1 0 1 0 1 0 1 0 1 0 1 0]\n"
     ]
    }
   ],
   "source": [
    "def crossover(parent1: np.ndarray, parent2: np.ndarray, num_bits):\n",
    "\n",
    "    # 1-cut crossover:\n",
    "    # select random point on the genome to cut, but not on the ends of the genome, hence the 1 and the minus 2\n",
    "    #cut_pt = randint(1, num_bits - 2)\n",
    "    # use slicing to mix and match the genomes of the parents\n",
    "    #child1 = np.concatenate((parent1[:cut_pt], parent2[cut_pt:]))\n",
    "    #child2 = np.concatenate((parent2[:cut_pt], parent1[cut_pt:]))\n",
    "\n",
    "    # this is the 2-cut crossover:\n",
    "    #cut_pt1 = randint(1, num_bits - 3)\n",
    "    #cut_pt2 = randint(cut_pt1 + 1, num_bits - 2)\n",
    "    #child1 = np.concatenate((parent1[:cut_pt1], parent2[cut_pt1:cut_pt2], parent1[cut_pt2:]))\n",
    "    #child2 = np.concatenate((parent2[:cut_pt1], parent1[cut_pt1:cut_pt2], parent2[cut_pt2:]))\n",
    "\n",
    "    # this is the swapping of every other gene on the genome\n",
    "    child1 = copy(parent1)\n",
    "    child2 = copy(parent2)\n",
    "    child1[0::2], child2[0::2] = parent2[0::2], parent1[0::2]\n",
    "\n",
    "    # shifting the genes one spot to the right\n",
    "\n",
    "    child1 = np.concatenate([child1[2:], child1[:2]])\n",
    "    child2 = np.concatenate([child2[2:], child2[:2]])\n",
    "\n",
    "    return [child1, child2]\n",
    "\n",
    "p1 = np.array([1,1,1,1,1,1,1,1,1,1,1,1,1,1,1,1])\n",
    "p2 = np.array([0,0,0,0,0,0,0,0,0,0,0,0,0,0,0,0])\n",
    "\n",
    "children = crossover(p1, p2, len(p1))\n",
    "\n",
    "print(\"child 1: \", children[0])\n",
    "print(\"child 2: \", children[1])"
   ]
  },
  {
   "cell_type": "code",
   "execution_count": 61,
   "metadata": {},
   "outputs": [],
   "source": [
    "def mutate(ind: np.ndarray, num_bits, mut_rate):\n",
    "    mutated_ind = copy(ind)\n",
    "    # for each bit in the individuals genome, mutate the gene with a prop = MUT_RATE\n",
    "    for i in range(num_bits):\n",
    "        if random() < mut_rate:\n",
    "            mutated_ind[i] = not ind[i]\n",
    "    \n",
    "    return mutated_ind"
   ]
  },
  {
   "cell_type": "code",
   "execution_count": 62,
   "metadata": {},
   "outputs": [],
   "source": [
    "def ga(fitness, t_size, mut_rate, pop_size, num_bits, max_gens):\n",
    "    \n",
    "    # first, initialize (pop_size) number of individuals with (num_bits) number of bits\n",
    "    individuals = np.array([np.array(choices([0, 1], k=num_bits)) for _ in range(pop_size)])\n",
    "    # calculate the initital fitness scores of the individuals\n",
    "    fitness_scores = np.array([fitness(ind) for ind in individuals])\n",
    "\n",
    "    # print(\"Initial average fitness: \", fitness_scores.sum() / pop_size)\n",
    "\n",
    "    gen = 0\n",
    "\n",
    "    while gen < max_gens and fitness_scores.max() < 1:\n",
    "        parents = np.array([individuals[selection(fitness_scores, pop_size, t_size)] for _ in range(pop_size)])\n",
    "\n",
    "        new_individuals = []\n",
    "\n",
    "        for i in range(0, pop_size, 2):\n",
    "            # take two and two individuals from the selection and crossover to make two new children\n",
    "            parent1, parent2 = parents[i], parents[i+1]\n",
    "            children = crossover(parent1, parent2, num_bits)\n",
    "\n",
    "            # mutate the children with a probability of (mut_rate) for each bit in their genome\n",
    "            for child in children:\n",
    "                mutated_child = mutate(child, num_bits, mut_rate)\n",
    "                new_individuals.append(mutated_child)\n",
    "\n",
    "        if (len(new_individuals) != pop_size):\n",
    "            print(\"wrong number of new individuals generated!: \", len(new_individuals))\n",
    "\n",
    "        individuals = np.array(new_individuals)\n",
    "\n",
    "        fitness_scores =  np.array([fitness(ind) for ind in individuals])\n",
    "\n",
    "        gen += 1\n",
    "    \n",
    "    return individuals, fitness_scores, gen"
   ]
  },
  {
   "cell_type": "code",
   "execution_count": 89,
   "metadata": {},
   "outputs": [
    {
     "name": "stdout",
     "output_type": "stream",
     "text": [
      "End average fitness:  0.49898039816615\n",
      "[1 1 0 0 1 1 1 1 1 1 1 0 1 1 0 0 1 1 0 1 1 1 1 1 0 1 0 1 1 0 1 1 1 1 1 1 1\n",
      " 1 0 1 0 1 1 1 1 0 0 1 0 1 0 0 0 1 1 1 1 0 1 1 1 1 0 0 1 1 1 1 1 1 1 0 1 0\n",
      " 1 0 1 0 1 0 1 1 1 1 0 1 1 1 1 1 0 1 1 1 1 1 0 0 1 0]\n"
     ]
    }
   ],
   "source": [
    "TOURNAMENT_SIZE = 3\n",
    "POP_SIZE = 200 # must be even number\n",
    "NUM_BITS = 100\n",
    "MUT_RATE = 1 / NUM_BITS\n",
    "MAX_GENS = 10000\n",
    "\n",
    "problem = lab9_lib.make_problem(10)\n",
    "\n",
    "inds, fitness_scores, gens = ga(problem, TOURNAMENT_SIZE, MUT_RATE, POP_SIZE, NUM_BITS, MAX_GENS)\n",
    "\n",
    "print(\"End average fitness: \", fitness_scores.sum() / POP_SIZE)\n",
    "\n",
    "optimal = inds[np.argmax(fitness_scores)]\n",
    "\n",
    "print(optimal)\n",
    "\n",
    "if gens < MAX_GENS:\n",
    "    print(\"\\nOptimal solution found\\n\")\n",
    "    optimal = inds[np.argmax(fitness_scores)]\n",
    "    print(optimal)\n",
    "    print(\"\\nFound in num gens: \", gens)\n",
    "    print(\"Number of fitness calls: \", problem.calls)"
   ]
  },
  {
   "cell_type": "code",
   "execution_count": 10,
   "metadata": {},
   "outputs": [
    {
     "ename": "KeyboardInterrupt",
     "evalue": "",
     "output_type": "error",
     "traceback": [
      "\u001b[1;31m---------------------------------------------------------------------------\u001b[0m",
      "\u001b[1;31mKeyboardInterrupt\u001b[0m                         Traceback (most recent call last)",
      "\u001b[1;32mc:\\Users\\Arist\\OneDrive\\Dokumenter\\Høst2023\\Computational intelligence\\exercises\\computational-intelligence\\lab3\\lab9.ipynb Cell 11\u001b[0m line \u001b[0;36m1\n\u001b[0;32m     <a href='vscode-notebook-cell:/c%3A/Users/Arist/OneDrive/Dokumenter/H%C3%B8st2023/Computational%20intelligence/exercises/computational-intelligence/lab3/lab9.ipynb#X13sZmlsZQ%3D%3D?line=13'>14</a>\u001b[0m \u001b[39mfor\u001b[39;00m i \u001b[39min\u001b[39;00m \u001b[39mrange\u001b[39m(\u001b[39m10\u001b[39m):\n\u001b[0;32m     <a href='vscode-notebook-cell:/c%3A/Users/Arist/OneDrive/Dokumenter/H%C3%B8st2023/Computational%20intelligence/exercises/computational-intelligence/lab3/lab9.ipynb#X13sZmlsZQ%3D%3D?line=14'>15</a>\u001b[0m     problem \u001b[39m=\u001b[39m lab9_lib\u001b[39m.\u001b[39mmake_problem(problem_size)\n\u001b[1;32m---> <a href='vscode-notebook-cell:/c%3A/Users/Arist/OneDrive/Dokumenter/H%C3%B8st2023/Computational%20intelligence/exercises/computational-intelligence/lab3/lab9.ipynb#X13sZmlsZQ%3D%3D?line=15'>16</a>\u001b[0m     inds, fitness_scores, gens \u001b[39m=\u001b[39m ga(problem, TOURNAMENT_SIZE, MUT_RATE, POP_SIZE, NUM_BITS, MAX_GENS)\n\u001b[0;32m     <a href='vscode-notebook-cell:/c%3A/Users/Arist/OneDrive/Dokumenter/H%C3%B8st2023/Computational%20intelligence/exercises/computational-intelligence/lab3/lab9.ipynb#X13sZmlsZQ%3D%3D?line=16'>17</a>\u001b[0m     num_fitness_calls\u001b[39m.\u001b[39mappend(problem\u001b[39m.\u001b[39mcalls)\n\u001b[0;32m     <a href='vscode-notebook-cell:/c%3A/Users/Arist/OneDrive/Dokumenter/H%C3%B8st2023/Computational%20intelligence/exercises/computational-intelligence/lab3/lab9.ipynb#X13sZmlsZQ%3D%3D?line=18'>19</a>\u001b[0m average \u001b[39m=\u001b[39m np\u001b[39m.\u001b[39marray(num_fitness_calls)\u001b[39m.\u001b[39msum() \u001b[39m/\u001b[39m \u001b[39m100\u001b[39m\n",
      "\u001b[1;32mc:\\Users\\Arist\\OneDrive\\Dokumenter\\Høst2023\\Computational intelligence\\exercises\\computational-intelligence\\lab3\\lab9.ipynb Cell 11\u001b[0m line \u001b[0;36m1\n\u001b[0;32m     <a href='vscode-notebook-cell:/c%3A/Users/Arist/OneDrive/Dokumenter/H%C3%B8st2023/Computational%20intelligence/exercises/computational-intelligence/lab3/lab9.ipynb#X13sZmlsZQ%3D%3D?line=9'>10</a>\u001b[0m gen \u001b[39m=\u001b[39m \u001b[39m0\u001b[39m\n\u001b[0;32m     <a href='vscode-notebook-cell:/c%3A/Users/Arist/OneDrive/Dokumenter/H%C3%B8st2023/Computational%20intelligence/exercises/computational-intelligence/lab3/lab9.ipynb#X13sZmlsZQ%3D%3D?line=11'>12</a>\u001b[0m \u001b[39mwhile\u001b[39;00m gen \u001b[39m<\u001b[39m max_gens \u001b[39mand\u001b[39;00m fitness_scores\u001b[39m.\u001b[39mmax() \u001b[39m<\u001b[39m \u001b[39m1\u001b[39m:\n\u001b[1;32m---> <a href='vscode-notebook-cell:/c%3A/Users/Arist/OneDrive/Dokumenter/H%C3%B8st2023/Computational%20intelligence/exercises/computational-intelligence/lab3/lab9.ipynb#X13sZmlsZQ%3D%3D?line=12'>13</a>\u001b[0m     parents \u001b[39m=\u001b[39m np\u001b[39m.\u001b[39marray([individuals[selection(fitness_scores, pop_size, t_size)] \u001b[39mfor\u001b[39;00m _ \u001b[39min\u001b[39;00m \u001b[39mrange\u001b[39m(pop_size)])\n\u001b[0;32m     <a href='vscode-notebook-cell:/c%3A/Users/Arist/OneDrive/Dokumenter/H%C3%B8st2023/Computational%20intelligence/exercises/computational-intelligence/lab3/lab9.ipynb#X13sZmlsZQ%3D%3D?line=14'>15</a>\u001b[0m     new_individuals \u001b[39m=\u001b[39m []\n\u001b[0;32m     <a href='vscode-notebook-cell:/c%3A/Users/Arist/OneDrive/Dokumenter/H%C3%B8st2023/Computational%20intelligence/exercises/computational-intelligence/lab3/lab9.ipynb#X13sZmlsZQ%3D%3D?line=16'>17</a>\u001b[0m     \u001b[39mfor\u001b[39;00m i \u001b[39min\u001b[39;00m \u001b[39mrange\u001b[39m(\u001b[39m0\u001b[39m, pop_size, \u001b[39m2\u001b[39m):\n\u001b[0;32m     <a href='vscode-notebook-cell:/c%3A/Users/Arist/OneDrive/Dokumenter/H%C3%B8st2023/Computational%20intelligence/exercises/computational-intelligence/lab3/lab9.ipynb#X13sZmlsZQ%3D%3D?line=17'>18</a>\u001b[0m         \u001b[39m# take two and two individuals from the selection and crossover to make two new children\u001b[39;00m\n",
      "\u001b[1;31mKeyboardInterrupt\u001b[0m: "
     ]
    }
   ],
   "source": [
    "# Now lets find the average number of fitness calls for each problem instance\n",
    "\n",
    "TOURNAMENT_SIZE = 10\n",
    "POP_SIZE = 10 # must be even number\n",
    "NUM_BITS = 1000\n",
    "MUT_RATE = 1 / NUM_BITS\n",
    "MAX_GENS = 1000\n",
    "\n",
    "problem_sizes = [1, 2, 5, 10]\n",
    "\n",
    "for problem_size in problem_sizes:\n",
    "    num_fitness_calls = []\n",
    "\n",
    "    for i in range(10):\n",
    "        problem = lab9_lib.make_problem(problem_size)\n",
    "        inds, fitness_scores, gens = ga(problem, TOURNAMENT_SIZE, MUT_RATE, POP_SIZE, NUM_BITS, MAX_GENS)\n",
    "        num_fitness_calls.append(problem.calls)\n",
    "    \n",
    "    average = np.array(num_fitness_calls).sum() / 100\n",
    "\n",
    "    print(f\"Average number of fitness calls for problem size ({problem_size}): {average}\")\n",
    "    "
   ]
  }
 ],
 "metadata": {
  "kernelspec": {
   "display_name": "ci-fLJ3OwGs-py3.12",
   "language": "python",
   "name": "python3"
  },
  "language_info": {
   "codemirror_mode": {
    "name": "ipython",
    "version": 3
   },
   "file_extension": ".py",
   "mimetype": "text/x-python",
   "name": "python",
   "nbconvert_exporter": "python",
   "pygments_lexer": "ipython3",
   "version": "3.11.0"
  }
 },
 "nbformat": 4,
 "nbformat_minor": 2
}

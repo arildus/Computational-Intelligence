{
 "cells": [
  {
   "cell_type": "code",
   "execution_count": 2,
   "metadata": {},
   "outputs": [],
   "source": [
    "import numpy as np\n",
    "import random\n",
    "from game import Game, Move, Player\n",
    "import math"
   ]
  },
  {
   "cell_type": "code",
   "execution_count": 4,
   "metadata": {},
   "outputs": [],
   "source": [
    "test_board1 = np.array([[0,1,0,0,0],\n",
    "              [0,-1,-1,-1,1],\n",
    "              [1,-1,0,-1,0],\n",
    "              [0,-1,-1,1,1],\n",
    "              [1,1,0,1,1]])\n",
    "test_board2 = np.array([[0,1,0,1,0],\n",
    "              [1,-1,-1,-1,0],\n",
    "              [1,-1,0,-1,1],\n",
    "              [1,-1,-1,1,1],\n",
    "              [0,1,0,1,0]])\n",
    "test_board3 = np.array([[0,0,1,1,1],\n",
    "              [0,-1,-1,-1,0],\n",
    "              [0,-1,0,-1,0],\n",
    "              [1,-1,-1,1,1],\n",
    "              [0,0,1,1,1]])"
   ]
  },
  {
   "cell_type": "code",
   "execution_count": 25,
   "metadata": {},
   "outputs": [
    {
     "name": "stdout",
     "output_type": "stream",
     "text": [
      "[[ 0  1  0  0  0]\n",
      " [ 0 -1 -1 -1  1]\n",
      " [ 1 -1  0 -1  0]\n",
      " [ 0 -1 -1  1  1]\n",
      " [ 1  1  0  1  1]]\n"
     ]
    },
    {
     "data": {
      "text/plain": [
       "[((2, 0), <Move.LEFT: 2>),\n",
       " ((2, 0), <Move.BOTTOM: 1>),\n",
       " ((2, 0), <Move.RIGHT: 3>),\n",
       " ((3, 0), <Move.LEFT: 2>),\n",
       " ((3, 0), <Move.BOTTOM: 1>),\n",
       " ((3, 0), <Move.RIGHT: 3>),\n",
       " ((4, 0), <Move.LEFT: 2>),\n",
       " ((4, 0), <Move.BOTTOM: 1>),\n",
       " ((2, 4), <Move.TOP: 0>),\n",
       " ((2, 4), <Move.LEFT: 2>),\n",
       " ((2, 4), <Move.RIGHT: 3>),\n",
       " ((0, 1), <Move.TOP: 0>),\n",
       " ((0, 1), <Move.BOTTOM: 1>),\n",
       " ((0, 1), <Move.RIGHT: 3>),\n",
       " ((0, 3), <Move.TOP: 0>),\n",
       " ((0, 3), <Move.BOTTOM: 1>),\n",
       " ((0, 3), <Move.RIGHT: 3>),\n",
       " ((4, 2), <Move.TOP: 0>),\n",
       " ((4, 2), <Move.LEFT: 2>),\n",
       " ((4, 2), <Move.BOTTOM: 1>),\n",
       " ((0, 0), <Move.BOTTOM: 1>),\n",
       " ((0, 0), <Move.RIGHT: 3>)]"
      ]
     },
     "metadata": {},
     "output_type": "display_data"
    }
   ],
   "source": [
    "def get_legal_moves(board: np.ndarray, player_id: int):    \n",
    "    SIDES = [(1,0), (2,0), (3,0), (4,0),\n",
    "            (1,4), (2,4), (3,4), (4,4),\n",
    "            (0,1), (0,2), (0,3), (0,4),\n",
    "            (4,1), (4,2), (4,3), (0,0)]\n",
    "\n",
    "    MOVES = [Move.TOP,\n",
    "            Move.LEFT,\n",
    "            Move.BOTTOM,\n",
    "            Move.RIGHT]\n",
    "\n",
    "    legal_moves = []\n",
    "\n",
    "    for x, y in SIDES:\n",
    "        if board[y,x] == player_id or board[y,x] == -1:\n",
    "            moves = MOVES.copy()\n",
    "            if x == 4:\n",
    "                moves.remove(Move.RIGHT)\n",
    "            if x == 0:\n",
    "                moves.remove(Move.LEFT)\n",
    "            if y == 4:\n",
    "                moves.remove(Move.BOTTOM)\n",
    "            if y == 0:\n",
    "                moves.remove(Move.TOP)\n",
    "\n",
    "            legal_moves.extend([((x,y), m) for m in moves])\n",
    "            \n",
    "    return legal_moves"
   ]
  },
  {
   "cell_type": "code",
   "execution_count": null,
   "metadata": {},
   "outputs": [],
   "source": [
    "def _get_legal_moves(self, board: np.ndarray):\n",
    "        moves = list()\n",
    "        rows, cols = board.shape\n",
    "        for i in range(rows):\n",
    "            if (board[i, 0] == -1):\n",
    "                #print(\"match 1\")\n",
    "                pickable_piece = (0,i)\n",
    "                if (i == 0):\n",
    "                    insertions = (Move.BOTTOM, Move.RIGHT)\n",
    "                elif (i == 4):\n",
    "                    insertions = (Move.TOP, Move.RIGHT)\n",
    "                else:\n",
    "                    insertions = (Move.TOP, Move.BOTTOM, Move.RIGHT)\n",
    "                \n",
    "                for insertion in insertions:\n",
    "                    #print((pickable_piece, insertion))\n",
    "                    moves.append((pickable_piece, insertion))\n",
    "            \n",
    "            if (board[i, 4] == -1):\n",
    "                #print(\"match 2\")\n",
    "                pickable_piece = (4,i)\n",
    "                if (i == 0):\n",
    "                    insertions = (Move.BOTTOM, Move.LEFT)\n",
    "                elif (i == 4):\n",
    "                    insertions = [Move.TOP, Move.LEFT]\n",
    "                else:\n",
    "                    insertions = (Move.TOP, Move.BOTTOM, Move.LEFT)\n",
    "                for insertion in insertions:\n",
    "                    #print((pickable_piece, insertion))\n",
    "                    moves.append((pickable_piece, insertion))\n",
    "        for j in range(cols):\n",
    "            if(board[0, j] == self.player_id or board[0, j] == -1):\n",
    "                #print(\"match 3\")\n",
    "                pickable_piece = (j,0)\n",
    "                if(j == 0):\n",
    "                    insertions = (Move.BOTTOM, Move.RIGHT)\n",
    "                elif (j == 4):\n",
    "                    insertions = (Move.BOTTOM, Move.LEFT)\n",
    "                else:\n",
    "                    insertions = (Move.LEFT, Move.RIGHT, Move.BOTTOM)\n",
    "                for insertion in insertions:\n",
    "                    #print((pickable_piece, insertion))\n",
    "                    moves.append((pickable_piece, insertion))\n",
    "            if(board[4, j] == self.player_id or board[4, j] == -1):\n",
    "                #print(\"match 4\")\n",
    "                pickable_piece = (j,4)\n",
    "                if (j == 0):\n",
    "                    insertions = (Move.TOP, Move.RIGHT)\n",
    "                elif (j == 4):\n",
    "                    insertions = (Move.TOP, Move.LEFT)\n",
    "                else:\n",
    "                    insertions = (Move.LEFT, Move.RIGHT, Move.TOP)\n",
    "                for insertion in insertions:\n",
    "                    #print((pickable_piece, insertion))\n",
    "                    moves.append((pickable_piece, insertion))\n",
    "        random.shuffle(moves)\n",
    "        return moves"
   ]
  }
 ],
 "metadata": {
  "kernelspec": {
   "display_name": "venv",
   "language": "python",
   "name": "python3"
  },
  "language_info": {
   "codemirror_mode": {
    "name": "ipython",
    "version": 3
   },
   "file_extension": ".py",
   "mimetype": "text/x-python",
   "name": "python",
   "nbconvert_exporter": "python",
   "pygments_lexer": "ipython3",
   "version": "3.11.0"
  }
 },
 "nbformat": 4,
 "nbformat_minor": 2
}

{
 "cells": [
  {
   "cell_type": "code",
   "execution_count": 300,
   "metadata": {},
   "outputs": [],
   "source": [
    "from functools import reduce\n",
    "from collections import namedtuple\n",
    "from random import random\n",
    "from queue import PriorityQueue\n",
    "from math import ceil\n",
    "\n",
    "from tqdm.auto import tqdm\n",
    "import numpy as np"
   ]
  },
  {
   "cell_type": "code",
   "execution_count": 301,
   "metadata": {},
   "outputs": [],
   "source": [
    "PROBLEM_SIZE = 10\n",
    "NUM_SETS = 20\n",
    "SETS = tuple(np.array([random() < 0.2 for _ in range(PROBLEM_SIZE)]) for _ in range(NUM_SETS))\n",
    "\n",
    "State = namedtuple('State', ['taken', 'not_taken'])\n",
    "\n",
    "\n",
    "def covered(state):\n",
    "    return reduce(\n",
    "        np.logical_or,\n",
    "        [SETS[i] for i in state.taken],\n",
    "        np.array([False for _ in range(PROBLEM_SIZE)]),\n",
    "    )\n",
    "\n",
    "\n",
    "def goal_check(state):\n",
    "    return np.all(covered(state))\n",
    "\n",
    "assert goal_check(State(set(range(NUM_SETS)), set())), \"Problem not solvable\""
   ]
  },
  {
   "cell_type": "code",
   "execution_count": 302,
   "metadata": {},
   "outputs": [],
   "source": [
    "#A-star\n",
    "\n",
    "def h1(state):\n",
    "    covered_states = covered(state)\n",
    "    if np.all(covered_states):\n",
    "        return 0\n",
    "    pot = map(lambda x: np.logical_or(x, covered_states), state.not_taken)\n",
    "    best_tilecovering = max(sum(s) for s in pot)\n",
    "    return len(state.not_taken) - best_tilecovering\n",
    "\n",
    "def h2(state):\n",
    "    covered_states = covered(state)\n",
    "    if np.all(covered_states):\n",
    "        return 0\n",
    "    \n",
    "    \n",
    "\n",
    "\n",
    "def f_astar(state):\n",
    "    return len(state.taken) + h1(state)\n",
    "\n",
    "def f_dijkstra(state):\n",
    "    return len(state.taken)\n",
    "\n",
    "def f_greedy(state):\n",
    "    missing_size = PROBLEM_SIZE - sum(covered(state))\n",
    "    return missing_size"
   ]
  },
  {
   "cell_type": "code",
   "execution_count": 303,
   "metadata": {},
   "outputs": [
    {
     "name": "stderr",
     "output_type": "stream",
     "text": [
      "0it [00:00, ?it/s]"
     ]
    },
    {
     "name": "stderr",
     "output_type": "stream",
     "text": [
      "35it [00:00, 478.47it/s]"
     ]
    },
    {
     "name": "stdout",
     "output_type": "stream",
     "text": [
      "Solved in 35 steps (6 sets)\n",
      "solution:  [array([ True, False, False, False,  True, False, False, False, False,\n",
      "       False]), array([False, False, False,  True, False, False, False, False,  True,\n",
      "        True]), array([False, False, False, False, False, False,  True, False, False,\n",
      "       False]), array([ True, False, False,  True, False, False, False,  True, False,\n",
      "       False]), array([False, False,  True, False, False,  True, False, False, False,\n",
      "       False]), array([False,  True, False,  True, False, False, False, False, False,\n",
      "       False])]\n"
     ]
    },
    {
     "name": "stderr",
     "output_type": "stream",
     "text": [
      "\n"
     ]
    }
   ],
   "source": [
    "frontier = PriorityQueue()\n",
    "state = State(set(), set(range(NUM_SETS)))\n",
    "frontier.put((f_astar(state), state))\n",
    "\n",
    "counter = 0\n",
    "_, current_state = frontier.get()\n",
    "with tqdm(total=None) as pbar:\n",
    "    while not goal_check(current_state):\n",
    "        counter += 1\n",
    "        for action in current_state[1]:\n",
    "            new_state = State(\n",
    "                current_state.taken ^ {action},\n",
    "                current_state.not_taken ^ {action},\n",
    "            )\n",
    "            frontier.put((f_astar(new_state), new_state))\n",
    "        _, current_state = frontier.get()\n",
    "        pbar.update(1)\n",
    "\n",
    "print(f\"Solved in {counter:,} steps ({len(current_state.taken)} sets)\")\n",
    "print(\"solution: \", [SETS[i] for i in current_state.taken])"
   ]
  },
  {
   "cell_type": "code",
   "execution_count": 304,
   "metadata": {},
   "outputs": [
    {
     "name": "stderr",
     "output_type": "stream",
     "text": [
      "9296it [00:00, 11691.68it/s]"
     ]
    },
    {
     "name": "stdout",
     "output_type": "stream",
     "text": [
      "Solved in 9,296 steps (4 sets)\n",
      "solution:  [array([False, False,  True, False, False,  True, False, False, False,\n",
      "       False]), array([False,  True, False,  True, False, False, False, False, False,\n",
      "       False]), array([ True,  True, False, False,  True, False, False, False,  True,\n",
      "       False]), array([False, False, False, False,  True, False,  True,  True, False,\n",
      "        True])]\n"
     ]
    },
    {
     "name": "stderr",
     "output_type": "stream",
     "text": [
      "\n"
     ]
    }
   ],
   "source": [
    "frontier = PriorityQueue()\n",
    "state = State(set(), set(range(NUM_SETS)))\n",
    "frontier.put((f_dijkstra(state), state))\n",
    "\n",
    "counter = 0\n",
    "_, current_state = frontier.get()\n",
    "with tqdm(total=None) as pbar:\n",
    "    while not goal_check(current_state):\n",
    "        counter += 1\n",
    "        for action in current_state[1]:\n",
    "            new_state = State(\n",
    "                current_state.taken ^ {action},\n",
    "                current_state.not_taken ^ {action},\n",
    "            )\n",
    "            frontier.put((f_dijkstra(new_state), new_state))\n",
    "        _, current_state = frontier.get()\n",
    "        pbar.update(1)\n",
    "\n",
    "print(f\"Solved in {counter:,} steps ({len(current_state.taken)} sets)\")\n",
    "print(\"solution: \", [SETS[i] for i in current_state.taken])"
   ]
  }
 ],
 "metadata": {
  "kernelspec": {
   "display_name": "venv",
   "language": "python",
   "name": "python3"
  },
  "language_info": {
   "codemirror_mode": {
    "name": "ipython",
    "version": 3
   },
   "file_extension": ".py",
   "mimetype": "text/x-python",
   "name": "python",
   "nbconvert_exporter": "python",
   "pygments_lexer": "ipython3",
   "version": "3.11.0"
  }
 },
 "nbformat": 4,
 "nbformat_minor": 2
}
